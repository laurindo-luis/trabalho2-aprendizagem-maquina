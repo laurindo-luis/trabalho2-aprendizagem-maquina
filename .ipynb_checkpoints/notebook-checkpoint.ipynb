{
 "cells": [
  {
   "cell_type": "code",
   "execution_count": 12,
   "id": "7628f1b3-5544-45a4-ba33-4a88068c2ce7",
   "metadata": {},
   "outputs": [],
   "source": [
    "import pandas as pd\n",
    "import numpy as np\n",
    "import matplotlib.pyplot as plt\n",
    "from sklearn.preprocessing import Normalizer\n",
    "\n",
    "SMALL_SIZE = 15\n",
    "MEDIUM_SIZE = 18\n",
    "BIGGER_SIZE = 22\n",
    "\n",
    "plt.rc('font', size=SMALL_SIZE)          # controls default text sizes\n",
    "plt.rc('axes', titlesize=SMALL_SIZE)     # fontsize of the axes title\n",
    "plt.rc('axes', labelsize=MEDIUM_SIZE)    # fontsize of the x and y labels\n",
    "plt.rc('xtick', labelsize=SMALL_SIZE)    # fontsize of the tick labels\n",
    "plt.rc('ytick', labelsize=SMALL_SIZE)    # fontsize of the tick labels\n",
    "plt.rc('legend', fontsize=SMALL_SIZE)    # legend fontsize\n",
    "plt.rc('figure', titlesize=BIGGER_SIZE)  # fontsize of the figure title"
   ]
  },
  {
   "cell_type": "markdown",
   "id": "6ea9ef09-66ba-4384-8073-42e21e83066c",
   "metadata": {},
   "source": [
    "# K-NN"
   ]
  },
  {
   "cell_type": "code",
   "execution_count": null,
   "id": "385216a9-e7f9-4d3b-a16a-5c2e17142961",
   "metadata": {},
   "outputs": [],
   "source": [
    "df = pd.read_csv('cardio_train.csv', sep=';')\n",
    "df"
   ]
  },
  {
   "cell_type": "markdown",
   "id": "fbcccd59-96fd-40eb-a2ee-2f888fa16e10",
   "metadata": {},
   "source": [
    "## Remoção de outliers"
   ]
  },
  {
   "cell_type": "code",
   "execution_count": null,
   "id": "ade160f8-ef80-4641-8653-2522ff41ae91",
   "metadata": {},
   "outputs": [],
   "source": [
    "df_outliers = df[(df.ap_hi <= df.ap_lo) | (df.ap_hi < 120) | (df.ap_hi > 300) | (df.ap_lo < 0) | (df.ap_lo > 300)]\n",
    "df = df.drop(df_outliers.index, axis=0)\n",
    "df"
   ]
  },
  {
   "cell_type": "markdown",
   "id": "29d78dbe-d4ad-4102-91ea-51bd6de1e80d",
   "metadata": {},
   "source": [
    "## Escolha dos atributos"
   ]
  },
  {
   "cell_type": "code",
   "execution_count": null,
   "id": "3b31961a-53b5-4bb2-8403-82e59c0512d8",
   "metadata": {},
   "outputs": [],
   "source": [
    "df = df[['age', 'weight', 'ap_hi', 'cardio']]"
   ]
  },
  {
   "cell_type": "code",
   "execution_count": null,
   "id": "b350d6a9-f427-4ed0-96df-4f49e589b0bf",
   "metadata": {},
   "outputs": [],
   "source": [
    "df = df.astype({'age': 'int32'})\n",
    "df['age'] = df['age'] / 365\n",
    "df = df.astype({'age': 'int32'})\n",
    "df"
   ]
  },
  {
   "cell_type": "markdown",
   "id": "add8a730-8664-435c-ae38-fe42869328b1",
   "metadata": {},
   "source": [
    "## Grupos"
   ]
  },
  {
   "cell_type": "code",
   "execution_count": null,
   "id": "0f497864-5e59-4b2e-b61d-dcee7e20c0ed",
   "metadata": {},
   "outputs": [],
   "source": [
    "df['color'] = df.cardio.map(lambda c: 'red' if c == 1 else 'blue')\n",
    "df"
   ]
  },
  {
   "cell_type": "code",
   "execution_count": null,
   "id": "92519850-3fdd-41f3-9382-3642965262f1",
   "metadata": {},
   "outputs": [],
   "source": [
    "df['id'] = range(0, len(df.index))\n",
    "df = df.set_index('id')\n",
    "df"
   ]
  },
  {
   "cell_type": "code",
   "execution_count": null,
   "id": "d909351e-fa67-4e5d-9ed3-8f160b9d73cf",
   "metadata": {},
   "outputs": [],
   "source": [
    "from mpl_toolkits.mplot3d import Axes3D\n",
    "\n",
    "fig = plt.figure(figsize=(15, 10))\n",
    "ax = fig.add_subplot(projection='3d')\n",
    "ax = Axes3D(fig)\n",
    "ax.set_title('Pessoas que possuem ou não alguma doença cardiovascular', fontsize=18)\n",
    "ax.set_xlabel('Idade', fontsize=18)\n",
    "ax.set_zlabel('Peso', fontsize=18)\n",
    "ax.set_zlabel('Pressão sistólica', fontsize=18)\n",
    "\n",
    "ax.scatter(xs=df.age, ys=df.weight, zs=df.ap_hi, c=df['color'])"
   ]
  },
  {
   "cell_type": "markdown",
   "id": "16f6e070-e0fe-4cd7-936e-0d8a14a6e666",
   "metadata": {},
   "source": [
    "## Training and Testing Data"
   ]
  },
  {
   "cell_type": "code",
   "execution_count": null,
   "id": "c600ce28-d799-48ab-83b1-303edd601901",
   "metadata": {},
   "outputs": [],
   "source": [
    "from sklearn.model_selection import train_test_split\n",
    "from sklearn.preprocessing import StandardScaler\n",
    "from sklearn.metrics import accuracy_score\n",
    "from sklearn.neighbors import KNeighborsClassifier\n",
    "\n",
    "def training_test(df, k, p=2, weights='uniform'):\n",
    "    X = df[['age', 'weight', 'ap_hi']]\n",
    "    Y = df.cardio\n",
    "\n",
    "    X_train, X_test, Y_train, Y_test = train_test_split(X, Y, test_size=0.3, random_state=42)\n",
    "    \n",
    "    sc = StandardScaler()\n",
    "    X_train = sc.fit_transform(X_train)\n",
    "    X_test = sc.transform(X_test)\n",
    "    \n",
    "    classifier = KNeighborsClassifier(n_neighbors = k, p=p, weights=weights)\n",
    "    classifier.fit(X_train, Y_train)\n",
    "    result = classifier.predict(X_test)\n",
    "    return accuracy_score(Y_test, result)"
   ]
  },
  {
   "cell_type": "markdown",
   "id": "688d0948-bf56-4b03-bcc4-0c0eedf42348",
   "metadata": {},
   "source": [
    "## Como a acurácia se comporta com relação ao tamanho da base?"
   ]
  },
  {
   "cell_type": "code",
   "execution_count": null,
   "id": "3d1eba8f-211f-460d-b996-8c0551281d3c",
   "metadata": {},
   "outputs": [],
   "source": [
    "accuracy_tam_base = {'tam': [], 'accuracy': []}\n",
    "\n",
    "for n in range(10, 101, 10):\n",
    "    df_aux = df[df.index < ((len(df.index) * n) / 100)]\n",
    "    print(len(df_aux.index))\n",
    "    accuracy = training_test(df=df_aux, k=3, weights='distance', p=1)\n",
    "    accuracy_tam_base['tam'].append(n)\n",
    "    accuracy_tam_base['accuracy'].append(accuracy)\n",
    "\n",
    "\n",
    "plt.figure(figsize=(15, 7))\n",
    "plt.title('Acurácia X Tamanho da base', fontsize=22)\n",
    "plt.xlabel('Tamanho da base (%)', fontsize=18)\n",
    "plt.ylabel('Acurácia', fontsize=18)\n",
    "plt.plot(accuracy_tam_base['tam'], accuracy_tam_base['accuracy'])\n",
    "plt.show()"
   ]
  },
  {
   "cell_type": "markdown",
   "id": "bb70135d-7758-4ba6-a859-806c5e12061e",
   "metadata": {},
   "source": [
    "## Quanto ao número de vizinhos?"
   ]
  },
  {
   "cell_type": "code",
   "execution_count": null,
   "id": "2d8e444b-538c-487d-9227-3b5229526d14",
   "metadata": {},
   "outputs": [],
   "source": [
    "import math\n",
    "\n",
    "accuracy_k_base = {'k':[], 'accuracy':[]}\n",
    "tamanho_base = len(df.index)\n",
    "\n",
    "for k in range(1, round(math.sqrt(tamanho_base)) + 1):\n",
    "    accuracy = training_test(df=df, k=k)\n",
    "    accuracy_k_base['k'].append(k)\n",
    "    accuracy_k_base['accuracy'].append(accuracy)\n",
    "    \n",
    "plt.figure(figsize=(15, 7))\n",
    "plt.title('Acurácia X Quantidade de vizinhos', fontsize=22)\n",
    "plt.xlabel('Quantidade de vizinhos', fontsize=18)\n",
    "plt.ylabel('Acurácia', fontsize=18)\n",
    "plt.plot(accuracy_k_base['k'], accuracy_k_base['accuracy'])"
   ]
  },
  {
   "cell_type": "code",
   "execution_count": null,
   "id": "33f7a1b0-1aea-49e2-a83a-89d60da185f8",
   "metadata": {},
   "outputs": [],
   "source": [
    "def melhor_k(accuracy_k_base):\n",
    "    index_maior = 0\n",
    "    valor_accuracy = accuracy_k_base['accuracy'][0]\n",
    "    for i in range(1, len(accuracy_k_base['k'])):\n",
    "        if(valor_accuracy < accuracy_k_base['accuracy'][i]):\n",
    "            valor_accuracy = accuracy_k_base['accuracy'][i]\n",
    "            index_maior = i\n",
    "    return index_maior       \n",
    "\n",
    "#Pegado o melhor valor para K\n",
    "k = melhor_k(accuracy_k_base)\n",
    "if (k % 2) == 0 : k += 1\n",
    "k"
   ]
  },
  {
   "cell_type": "markdown",
   "id": "df025a15-4a32-4303-b691-a4f89808b2a7",
   "metadata": {},
   "source": [
    "## Quanto a medida de distância utilizada"
   ]
  },
  {
   "cell_type": "code",
   "execution_count": null,
   "id": "fde951cf-243b-4ee6-8134-1569ba24054f",
   "metadata": {},
   "outputs": [],
   "source": [
    "accuracy = training_test(df=df, k=k, p=1)\n",
    "print(accuracy)\n",
    "accuracy = training_test(df=df, k=k, p=2)\n",
    "print(accuracy)"
   ]
  },
  {
   "cell_type": "markdown",
   "id": "00f521ef-5241-47e8-913e-8f330daddbee",
   "metadata": {},
   "source": [
    "## Atribuição de pesos para vizinhos"
   ]
  },
  {
   "cell_type": "code",
   "execution_count": null,
   "id": "e2b59400-5aef-487a-a58e-dc1e5e88036d",
   "metadata": {},
   "outputs": [],
   "source": [
    "accuracy = training_test(df=df, k=k, weights='distance')\n",
    "print(accuracy)\n",
    "accuracy = training_test(df=df, k=k)\n",
    "print(accuracy)"
   ]
  },
  {
   "cell_type": "markdown",
   "id": "befdd037-4959-4f3e-b345-60ab6bb17ac6",
   "metadata": {},
   "source": [
    "# Clusterização"
   ]
  },
  {
   "cell_type": "code",
   "execution_count": null,
   "id": "bfb146ca-0659-46ad-baea-b566f2e739b1",
   "metadata": {},
   "outputs": [],
   "source": [
    "import my_methods as m\n",
    "from sklearn.metrics import silhouette_score"
   ]
  },
  {
   "cell_type": "code",
   "execution_count": null,
   "id": "f5329312-8581-4f88-a5ae-d1ba4cdf36b4",
   "metadata": {},
   "outputs": [],
   "source": [
    "df = pd.read_csv('Mall_Customers.csv', sep=',')\n",
    "df = df.rename(columns={'Age': 'age', 'Annual Income (k$)': 'annual_income', 'Spending Score (1-100)': 'score'})\n",
    "df = df[['age', 'annual_income', 'score']]\n",
    "df"
   ]
  },
  {
   "cell_type": "markdown",
   "id": "17ea7834-6496-48ba-8a12-863f4b89e807",
   "metadata": {},
   "source": [
    "## Removendo linhas com dados nulos"
   ]
  },
  {
   "cell_type": "code",
   "execution_count": null,
   "id": "6f3c8884-96c2-41f2-9d8c-489a388381c6",
   "metadata": {},
   "outputs": [],
   "source": [
    "df = df[~df.isnull().T.any()]\n",
    "df"
   ]
  },
  {
   "cell_type": "markdown",
   "id": "aa75deea-8652-4c22-a23c-58cbd037ad1c",
   "metadata": {},
   "source": [
    "## k-means"
   ]
  },
  {
   "cell_type": "code",
   "execution_count": null,
   "id": "dee70214-a617-4c3c-b1d1-a67462d0fb6d",
   "metadata": {},
   "outputs": [],
   "source": [
    "from sklearn.cluster import KMeans"
   ]
  },
  {
   "cell_type": "markdown",
   "id": "9097d643-ff84-4324-993c-2cf3fe8c957e",
   "metadata": {
    "tags": [],
    "toc-hr-collapsed": true
   },
   "source": [
    "### Verificando se há uma relação entre a idade e rendimento do consumidor"
   ]
  },
  {
   "cell_type": "code",
   "execution_count": null,
   "id": "270c8337-0d3c-454f-ac23-86c3d2ce73f0",
   "metadata": {},
   "outputs": [],
   "source": [
    "df_aux = df[['age', 'annual_income']]\n",
    "X = Normalizer().fit_transform(df_aux.values)"
   ]
  },
  {
   "cell_type": "code",
   "execution_count": null,
   "id": "1e4001c0-14cb-4687-b1a9-1923890cba23",
   "metadata": {},
   "outputs": [],
   "source": [
    "k_values = range(2, 11)\n",
    "clusters = {}\n",
    "\n",
    "for k in k_values:\n",
    "    dados = {'k_elementos':[], 'labels': np.ndarray, 'silhueta': [], 'distancia':[]}\n",
    "    \n",
    "    kmeans = KMeans(n_clusters=k).fit(X)\n",
    "    lables = list(kmeans.labels_)\n",
    "    s = silhouette_score(X, kmeans.labels_, metric='euclidean')\n",
    "    d = kmeans.inertia_\n",
    "    \n",
    "    dados['labels'] = kmeans.labels_\n",
    "    dados['k_elementos'] = m.quantidade_elementos_cluster(lables, k)\n",
    "    dados['silhueta'].append(s)\n",
    "    dados['distancia'].append(d)\n",
    "    \n",
    "    clusters[str(k)] = dados"
   ]
  },
  {
   "cell_type": "code",
   "execution_count": null,
   "id": "d8e559f4-7235-4bed-94fb-024d427dc0a2",
   "metadata": {},
   "outputs": [],
   "source": [
    "y = []\n",
    "for k in k_values:\n",
    "    distancia = clusters[str(k)]['distancia'][0]\n",
    "    y.append(distancia)\n",
    "    \n",
    "plt.figure(figsize=(15, 7))\n",
    "plt.plot(k_values, y)\n",
    "plt.title('n clusters X k-means score')\n",
    "plt.xlabel('n clusters')\n",
    "plt.ylabel('k-means score')\n",
    "plt.show()"
   ]
  },
  {
   "cell_type": "code",
   "execution_count": null,
   "id": "57d0f68d-15a4-4ea7-a7dd-83dc8edf4413",
   "metadata": {},
   "outputs": [],
   "source": [
    "# Com k = 2\n",
    "k = 2\n",
    "df_labels = df\n",
    "df_labels['color'] = clusters[str(k)]['labels']\n",
    "df_labels['color'] = df_labels.color.map(lambda c: m.get_color(c))\n",
    "df_labels\n",
    "\n",
    "df_aux.plot(x='age', y='annual_income', kind='scatter', color=df['color'],\n",
    "        figsize=(10,8), title='K = 2')\n",
    "plt.show()"
   ]
  },
  {
   "cell_type": "code",
   "execution_count": null,
   "id": "95c681b8-a391-486c-85e2-321bbb8579aa",
   "metadata": {},
   "outputs": [],
   "source": [
    "m.mostrar_quantidade_elementos_cluster(k, clusters)"
   ]
  },
  {
   "cell_type": "code",
   "execution_count": null,
   "id": "44dda561-6f6f-4a00-a977-8bb439f1f77a",
   "metadata": {},
   "outputs": [],
   "source": [
    "m.plot_silhouette(X, k, clusters[str(k)]['labels'])"
   ]
  },
  {
   "cell_type": "code",
   "execution_count": null,
   "id": "aae9a8cb-bc1b-41d6-a896-ea46f367c562",
   "metadata": {},
   "outputs": [],
   "source": [
    "# Com k = 3\n",
    "k = 3\n",
    "df_labels = df\n",
    "df_labels['color'] = clusters[str(k)]['labels']\n",
    "df_labels['color'] = df_labels.color.map(lambda c: m.get_color(c))\n",
    "df_labels\n",
    "\n",
    "df.plot(x='age', y='annual_income', kind='scatter', color=df['color'], figsize=(10,8), title='K = 3')"
   ]
  },
  {
   "cell_type": "code",
   "execution_count": null,
   "id": "fad4d43f-ebfe-4177-84ec-6048d07c9177",
   "metadata": {},
   "outputs": [],
   "source": [
    "m.mostrar_quantidade_elementos_cluster(k, clusters)"
   ]
  },
  {
   "cell_type": "code",
   "execution_count": null,
   "id": "e79ceced-129e-45bc-9a70-e6bbc1622916",
   "metadata": {},
   "outputs": [],
   "source": [
    "m.plot_silhouette(X, k, clusters[str(k)]['labels'])"
   ]
  },
  {
   "cell_type": "code",
   "execution_count": null,
   "id": "24e5ba85-940c-4f06-97f4-76a022e7e3cc",
   "metadata": {},
   "outputs": [],
   "source": [
    "# Com k = 4\n",
    "k = 4\n",
    "df_labels = df\n",
    "df_labels['color'] = clusters[str(k)]['labels']\n",
    "df_labels['color'] = df_labels.color.map(lambda c: m.get_color(c))\n",
    "df_labels\n",
    "\n",
    "df.plot(x='age', y='annual_income', kind='scatter', color=df['color'], figsize=(10,8), title='K = 4')"
   ]
  },
  {
   "cell_type": "code",
   "execution_count": null,
   "id": "30b3727b-1f4b-49a6-b8cd-08888f3a1c5a",
   "metadata": {},
   "outputs": [],
   "source": [
    "m.mostrar_quantidade_elementos_cluster(k, clusters)"
   ]
  },
  {
   "cell_type": "code",
   "execution_count": null,
   "id": "ffec7c7a-4d5e-490b-b0a8-aaaada1091d8",
   "metadata": {},
   "outputs": [],
   "source": [
    "m.plot_silhouette(X, k, clusters[str(k)]['labels'])"
   ]
  },
  {
   "cell_type": "code",
   "execution_count": null,
   "id": "59e8872f-4a22-45e3-af63-f4771202ddc3",
   "metadata": {},
   "outputs": [],
   "source": [
    "# Com k = 5\n",
    "k = 5\n",
    "df_labels = df\n",
    "df_labels['color'] = clusters[str(k)]['labels']\n",
    "df_labels['color'] = df_labels.color.map(lambda c: m.get_color(c))\n",
    "df_labels\n",
    "\n",
    "df.plot(x='age', y='annual_income', kind='scatter', color=df['color'], figsize=(10,8), title='K = 5')"
   ]
  },
  {
   "cell_type": "code",
   "execution_count": null,
   "id": "c4ba6ec8-45e6-4e3d-aaef-9cdcac2b8cac",
   "metadata": {},
   "outputs": [],
   "source": [
    "m.mostrar_quantidade_elementos_cluster(k, clusters)"
   ]
  },
  {
   "cell_type": "code",
   "execution_count": null,
   "id": "029b6b8d-f460-4ea5-ba95-67c0dbc23941",
   "metadata": {},
   "outputs": [],
   "source": [
    "m.plot_silhouette(X, k, clusters[str(k)]['labels'])"
   ]
  },
  {
   "cell_type": "code",
   "execution_count": null,
   "id": "d1374d48-d8db-46dd-9cff-7ed833f5332a",
   "metadata": {},
   "outputs": [],
   "source": [
    "# Com k = 6\n",
    "k = 6\n",
    "df_labels = df\n",
    "df_labels['color'] = clusters[str(k)]['labels']\n",
    "df_labels['color'] = df_labels.color.map(lambda c: m.get_color(c))\n",
    "df_labels\n",
    "\n",
    "df.plot(x='age', y='annual_income', kind='scatter', color=df['color'], figsize=(10,8), title='K = 6')"
   ]
  },
  {
   "cell_type": "code",
   "execution_count": null,
   "id": "1b9ca419-7345-4b9c-9216-9c861b39b46c",
   "metadata": {},
   "outputs": [],
   "source": [
    "m.mostrar_quantidade_elementos_cluster(k, clusters)"
   ]
  },
  {
   "cell_type": "code",
   "execution_count": null,
   "id": "628d3a3a-601c-4c8b-bd6c-204f9c77dfb3",
   "metadata": {},
   "outputs": [],
   "source": [
    "m.plot_silhouette(X, k, clusters[str(k)]['labels'])"
   ]
  },
  {
   "cell_type": "code",
   "execution_count": null,
   "id": "68b2740f-d71a-475c-8e85-2414a00b0dc8",
   "metadata": {},
   "outputs": [],
   "source": [
    "# Com k = 7\n",
    "k = 7\n",
    "df_labels = df\n",
    "df_labels['color'] = clusters[str(k)]['labels']\n",
    "df_labels['color'] = df_labels.color.map(lambda c: m.get_color(c))\n",
    "df_labels\n",
    "\n",
    "df.plot(x='age', y='annual_income', kind='scatter', color=df['color'], figsize=(10,8), title='K = 7')"
   ]
  },
  {
   "cell_type": "code",
   "execution_count": null,
   "id": "e5b55613-8a35-47ed-82c9-383594cb5b6b",
   "metadata": {},
   "outputs": [],
   "source": [
    "m.mostrar_quantidade_elementos_cluster(k, clusters)"
   ]
  },
  {
   "cell_type": "code",
   "execution_count": null,
   "id": "b51d9353-9edb-4ed2-96b8-8823aee15db7",
   "metadata": {},
   "outputs": [],
   "source": [
    "m.plot_silhouette(X, k, clusters[str(k)]['labels'])"
   ]
  },
  {
   "cell_type": "markdown",
   "id": "e70db496-50cc-4f14-9ee6-7b91c37a1eaa",
   "metadata": {},
   "source": [
    "### Verificando se há uma relação entre idade e score"
   ]
  },
  {
   "cell_type": "code",
   "execution_count": null,
   "id": "9a108328-b60e-4dce-bd47-e47b2e96344d",
   "metadata": {},
   "outputs": [],
   "source": [
    "df_aux = df[['age', 'score']]\n",
    "X = Normalizer().fit_transform(df_aux.values)"
   ]
  },
  {
   "cell_type": "code",
   "execution_count": null,
   "id": "f9a4571f-21d4-42c2-ae07-06407990cbf5",
   "metadata": {},
   "outputs": [],
   "source": [
    "k_values = range(2, 11)\n",
    "clusters = {}\n",
    "\n",
    "for k in k_values:\n",
    "    dados = {'k_elementos':[], 'labels': np.ndarray, 'silhueta': [], 'distancia':[]}\n",
    "    \n",
    "    kmeans = KMeans(n_clusters=k).fit(X)\n",
    "    lables = list(kmeans.labels_)\n",
    "    s = silhouette_score(X, kmeans.labels_, metric='euclidean')\n",
    "    d = kmeans.inertia_\n",
    "    \n",
    "    dados['labels'] = kmeans.labels_\n",
    "    dados['k_elementos'] = m.quantidade_elementos_cluster(lables, k)\n",
    "    dados['silhueta'].append(s)\n",
    "    dados['distancia'].append(d)\n",
    "    \n",
    "    clusters[str(k)] = dados"
   ]
  },
  {
   "cell_type": "code",
   "execution_count": null,
   "id": "a6c94314-bad3-4dd6-939c-9976ec2ec4ff",
   "metadata": {},
   "outputs": [],
   "source": [
    "y = []\n",
    "for k in k_values:\n",
    "    distancia = clusters[str(k)]['distancia'][0]\n",
    "    y.append(distancia)\n",
    "    \n",
    "plt.figure(figsize=(15, 7))\n",
    "plt.plot(k_values, y)\n",
    "plt.title('n clusters X k-means score')\n",
    "plt.xlabel('n clusters')\n",
    "plt.ylabel('k-means score')\n",
    "plt.show()"
   ]
  },
  {
   "cell_type": "code",
   "execution_count": null,
   "id": "cc4041df-28a3-4f50-8a9e-00c674f874e2",
   "metadata": {},
   "outputs": [],
   "source": [
    "# Com k = 2\n",
    "k = 2\n",
    "df_labels = df\n",
    "df_labels['color'] = clusters[str(k)]['labels']\n",
    "df_labels['color'] = df_labels.color.map(lambda c: m.get_color(c))\n",
    "df_labels\n",
    "\n",
    "df.plot(x='age', y='score', kind='scatter', color=df['color'], figsize=(10,8), title='K = 2')"
   ]
  },
  {
   "cell_type": "code",
   "execution_count": null,
   "id": "e228c585-ba7e-400a-8b5b-362c8bbe9287",
   "metadata": {},
   "outputs": [],
   "source": [
    "m.mostrar_quantidade_elementos_cluster(k, clusters)"
   ]
  },
  {
   "cell_type": "code",
   "execution_count": null,
   "id": "08e5fc64-2759-4256-86e0-c7ae3701c1b8",
   "metadata": {},
   "outputs": [],
   "source": [
    "m.plot_silhouette(X, k, clusters[str(k)]['labels'])"
   ]
  },
  {
   "cell_type": "code",
   "execution_count": null,
   "id": "85b24fdf-2e2a-4541-b787-1efec7f1f762",
   "metadata": {},
   "outputs": [],
   "source": [
    "# Com k = 3\n",
    "k = 3\n",
    "df_labels = df\n",
    "df_labels['color'] = clusters[str(k)]['labels']\n",
    "df_labels['color'] = df_labels.color.map(lambda c: m.get_color(c))\n",
    "df_labels\n",
    "\n",
    "df.plot(x='age', y='score', kind='scatter', color=df['color'], figsize=(10,8), title='K = 3')"
   ]
  },
  {
   "cell_type": "code",
   "execution_count": null,
   "id": "ba39589f-bcd9-48d7-91a4-4ab54f6811b9",
   "metadata": {},
   "outputs": [],
   "source": [
    "m.mostrar_quantidade_elementos_cluster(k, clusters)"
   ]
  },
  {
   "cell_type": "code",
   "execution_count": null,
   "id": "a5323f6a-58b8-4f1a-983d-03d56b36bd3b",
   "metadata": {},
   "outputs": [],
   "source": [
    "m.plot_silhouette(X, k, clusters[str(k)]['labels'])"
   ]
  },
  {
   "cell_type": "code",
   "execution_count": null,
   "id": "cd94ba86-c25f-4ae6-8418-a49890a22082",
   "metadata": {},
   "outputs": [],
   "source": [
    "# Com k = 4\n",
    "k = 4\n",
    "df_labels = df\n",
    "df_labels['color'] = clusters[str(k)]['labels']\n",
    "df_labels['color'] = df_labels.color.map(lambda c: m.get_color(c))\n",
    "df_labels\n",
    "\n",
    "df.plot(x='age', y='score', kind='scatter', color=df['color'], figsize=(10,8), title='K = 4')"
   ]
  },
  {
   "cell_type": "code",
   "execution_count": null,
   "id": "0917e249-8c9b-4776-8855-cb545e17c56e",
   "metadata": {},
   "outputs": [],
   "source": [
    "m.mostrar_quantidade_elementos_cluster(k, clusters)"
   ]
  },
  {
   "cell_type": "code",
   "execution_count": null,
   "id": "89ca4527-982f-4784-ae10-706ee7aaf66b",
   "metadata": {},
   "outputs": [],
   "source": [
    "m.plot_silhouette(X, k, clusters[str(k)]['labels'])"
   ]
  },
  {
   "cell_type": "code",
   "execution_count": null,
   "id": "e5cdfae4-bdc7-4cb5-a8ab-6ab3a6f917a3",
   "metadata": {},
   "outputs": [],
   "source": [
    "# Com k = 5\n",
    "k = 5\n",
    "df_labels = df\n",
    "df_labels['color'] = clusters[str(k)]['labels']\n",
    "df_labels['color'] = df_labels.color.map(lambda c: m.get_color(c))\n",
    "df_labels\n",
    "\n",
    "df.plot(x='age', y='score', kind='scatter', color=df['color'], figsize=(10,8), title='K = 5')"
   ]
  },
  {
   "cell_type": "code",
   "execution_count": null,
   "id": "38b00e0e-6c6c-4bc7-a7c7-60539bf46b69",
   "metadata": {},
   "outputs": [],
   "source": [
    "m.mostrar_quantidade_elementos_cluster(k, clusters)"
   ]
  },
  {
   "cell_type": "code",
   "execution_count": null,
   "id": "87ea8249-b440-456d-b0ad-1ffaeffcd918",
   "metadata": {},
   "outputs": [],
   "source": [
    "m.plot_silhouette(X, k, clusters[str(k)]['labels'])"
   ]
  },
  {
   "cell_type": "code",
   "execution_count": null,
   "id": "56a5e94d-bd78-4214-bd4c-e12b9a77db7f",
   "metadata": {},
   "outputs": [],
   "source": [
    "# Com k = 6\n",
    "k = 6\n",
    "df_labels = df\n",
    "df_labels['color'] = clusters[str(k)]['labels']\n",
    "df_labels['color'] = df_labels.color.map(lambda c: m.get_color(c))\n",
    "df_labels\n",
    "\n",
    "df.plot(x='age', y='score', kind='scatter', color=df['color'], figsize=(10,8), title='K = 6')"
   ]
  },
  {
   "cell_type": "code",
   "execution_count": null,
   "id": "315add80-0d1c-466d-9b7b-0581cf15271f",
   "metadata": {},
   "outputs": [],
   "source": [
    "m.mostrar_quantidade_elementos_cluster(k, clusters)"
   ]
  },
  {
   "cell_type": "code",
   "execution_count": null,
   "id": "9d5a74b1-f379-46f2-b824-540a739a2aa0",
   "metadata": {},
   "outputs": [],
   "source": [
    "m.plot_silhouette(X, k, clusters[str(k)]['labels'])"
   ]
  },
  {
   "cell_type": "code",
   "execution_count": null,
   "id": "414913c9-0896-4e4d-99ae-8d424558a8f8",
   "metadata": {},
   "outputs": [],
   "source": [
    "# Com k = 7\n",
    "k = 7\n",
    "df_labels = df\n",
    "df_labels['color'] = clusters[str(k)]['labels']\n",
    "df_labels['color'] = df_labels.color.map(lambda c: m.get_color(c))\n",
    "df_labels\n",
    "\n",
    "df.plot(x='age', y='score', kind='scatter', color=df['color'], figsize=(10,8), title='K = 7')"
   ]
  },
  {
   "cell_type": "code",
   "execution_count": null,
   "id": "0c81bd03-aa77-451a-a11b-59bfbf022f03",
   "metadata": {},
   "outputs": [],
   "source": [
    "m.mostrar_quantidade_elementos_cluster(k, clusters)"
   ]
  },
  {
   "cell_type": "code",
   "execution_count": null,
   "id": "2da6ca17-a76f-4a9c-b8bd-5fc59d321de6",
   "metadata": {},
   "outputs": [],
   "source": [
    "m.plot_silhouette(X, k, clusters[str(k)]['labels'])"
   ]
  },
  {
   "cell_type": "markdown",
   "id": "522519ba-2b5f-4796-bf28-500ed671f2cb",
   "metadata": {},
   "source": [
    "### Verificando se há uma relação entre redimento anual e score"
   ]
  },
  {
   "cell_type": "code",
   "execution_count": null,
   "id": "47161875-a55a-4a4b-987e-220c2c255a05",
   "metadata": {},
   "outputs": [],
   "source": [
    "df_aux = df[['annual_income', 'score']]\n",
    "X = Normalizer().fit_transform(df_aux.values)"
   ]
  },
  {
   "cell_type": "code",
   "execution_count": null,
   "id": "077e0b16-55fe-4acf-a235-b72f4d598382",
   "metadata": {},
   "outputs": [],
   "source": [
    "k_values = range(2, 11)\n",
    "clusters = {}\n",
    "\n",
    "for k in k_values:\n",
    "    dados = {'k_elementos':[], 'labels': np.ndarray, 'silhueta': [], 'distancia':[]}\n",
    "    \n",
    "    kmeans = KMeans(n_clusters=k).fit(X)\n",
    "    lables = list(kmeans.labels_)\n",
    "    s = silhouette_score(X, kmeans.labels_, metric='euclidean')\n",
    "    d = kmeans.inertia_\n",
    "    \n",
    "    dados['labels'] = kmeans.labels_\n",
    "    dados['k_elementos'] = m.quantidade_elementos_cluster(lables, k)\n",
    "    dados['silhueta'].append(s)\n",
    "    dados['distancia'].append(d)\n",
    "    \n",
    "    clusters[str(k)] = dados"
   ]
  },
  {
   "cell_type": "code",
   "execution_count": null,
   "id": "0d858c5d-4514-4e99-8d09-2cd953bc91d2",
   "metadata": {},
   "outputs": [],
   "source": [
    "y = []\n",
    "for k in k_values:\n",
    "    distancia = clusters[str(k)]['distancia'][0]\n",
    "    y.append(distancia)\n",
    "    \n",
    "plt.figure(figsize=(15, 7))\n",
    "plt.plot(k_values, y)\n",
    "plt.title('n clusters X k-means score')\n",
    "plt.xlabel('n clusters')\n",
    "plt.ylabel('k-means score')\n",
    "plt.show()"
   ]
  },
  {
   "cell_type": "code",
   "execution_count": null,
   "id": "34454a00-68e1-435e-b51d-68f0d5dd7ecc",
   "metadata": {},
   "outputs": [],
   "source": [
    "# Com k = 2\n",
    "k = 2\n",
    "df_labels = df\n",
    "df_labels['color'] = clusters[str(k)]['labels']\n",
    "df_labels['color'] = df_labels.color.map(lambda c: m.get_color(c))\n",
    "df_labels\n",
    "\n",
    "df.plot(x='score', y='annual_income', kind='scatter', color=df['color'], figsize=(10,8), title='K = 2')"
   ]
  },
  {
   "cell_type": "code",
   "execution_count": null,
   "id": "bf42f0d8-7367-434d-8253-7738db69b684",
   "metadata": {},
   "outputs": [],
   "source": [
    "m.mostrar_quantidade_elementos_cluster(k, clusters)"
   ]
  },
  {
   "cell_type": "code",
   "execution_count": null,
   "id": "74d653c9-ae30-4456-88c3-8bd392c38c10",
   "metadata": {},
   "outputs": [],
   "source": [
    "m.plot_silhouette(X, k, clusters[str(k)]['labels'])"
   ]
  },
  {
   "cell_type": "code",
   "execution_count": null,
   "id": "153c9ebb-0d13-4772-9ce0-73fc9c375ec4",
   "metadata": {},
   "outputs": [],
   "source": [
    "# Com k = 3\n",
    "k = 3\n",
    "df_labels = df\n",
    "df_labels['color'] = clusters[str(k)]['labels']\n",
    "df_labels['color'] = df_labels.color.map(lambda c: m.get_color(c))\n",
    "df_labels\n",
    "\n",
    "df.plot(x='score', y='annual_income', kind='scatter', color=df['color'], figsize=(10,8), title='K = 3')"
   ]
  },
  {
   "cell_type": "code",
   "execution_count": null,
   "id": "02fcc1b4-2726-46c8-a97f-95a5cd7053d3",
   "metadata": {},
   "outputs": [],
   "source": [
    "m.mostrar_quantidade_elementos_cluster(k, clusters)"
   ]
  },
  {
   "cell_type": "code",
   "execution_count": null,
   "id": "b6ba526d-d2d5-45c4-89a1-9adce8f38b5f",
   "metadata": {},
   "outputs": [],
   "source": [
    "m.plot_silhouette(X, k, clusters[str(k)]['labels'])"
   ]
  },
  {
   "cell_type": "code",
   "execution_count": null,
   "id": "2a28d43b-319c-41a9-8707-85a4948a06ac",
   "metadata": {},
   "outputs": [],
   "source": [
    "# Com k = 4\n",
    "k = 4\n",
    "df_labels = df\n",
    "df_labels['color'] = clusters[str(k)]['labels']\n",
    "df_labels['color'] = df_labels.color.map(lambda c: m.get_color(c))\n",
    "df_labels\n",
    "\n",
    "df.plot(x='score', y='annual_income', kind='scatter', color=df['color'], figsize=(10,8), title='K = 4')"
   ]
  },
  {
   "cell_type": "code",
   "execution_count": null,
   "id": "3c53f8e2-e8d4-4c90-8c38-58f1ec0474c1",
   "metadata": {},
   "outputs": [],
   "source": [
    "m.mostrar_quantidade_elementos_cluster(k, clusters)"
   ]
  },
  {
   "cell_type": "code",
   "execution_count": null,
   "id": "d05a4fb4-8ead-4fc1-ba8a-dce887690318",
   "metadata": {},
   "outputs": [],
   "source": [
    "m.plot_silhouette(X, k, clusters[str(k)]['labels'])"
   ]
  },
  {
   "cell_type": "code",
   "execution_count": null,
   "id": "26b8f01d-486f-4579-8724-a1d522574b4c",
   "metadata": {},
   "outputs": [],
   "source": [
    "# Com k = 5\n",
    "k = 5\n",
    "df_labels = df\n",
    "df_labels['color'] = clusters[str(k)]['labels']\n",
    "df_labels['color'] = df_labels.color.map(lambda c: m.get_color(c))\n",
    "df_labels\n",
    "\n",
    "df.plot(x='score', y='annual_income', kind='scatter', color=df['color'], figsize=(10,8), title='K = 5')"
   ]
  },
  {
   "cell_type": "code",
   "execution_count": null,
   "id": "2120c3ea-ef38-440b-8289-154f1582322e",
   "metadata": {},
   "outputs": [],
   "source": [
    "m.mostrar_quantidade_elementos_cluster(k, clusters)"
   ]
  },
  {
   "cell_type": "code",
   "execution_count": null,
   "id": "783b373d-ae6f-4993-8293-1c13a14d132f",
   "metadata": {},
   "outputs": [],
   "source": [
    "m.plot_silhouette(X, k, clusters[str(k)]['labels'])"
   ]
  },
  {
   "cell_type": "code",
   "execution_count": null,
   "id": "96bd47a1-b1bd-4937-8e01-4361e411bdb8",
   "metadata": {},
   "outputs": [],
   "source": [
    "# Com k = 6\n",
    "k = 6\n",
    "df_labels = df\n",
    "df_labels['color'] = clusters[str(k)]['labels']\n",
    "df_labels['color'] = df_labels.color.map(lambda c: m.get_color(c))\n",
    "df_labels\n",
    "\n",
    "df.plot(x='score', y='annual_income', kind='scatter', color=df['color'], figsize=(10,8), title='K = 6')"
   ]
  },
  {
   "cell_type": "code",
   "execution_count": null,
   "id": "6d9cce1f-7bcd-43f1-8c9c-bc21e38a7467",
   "metadata": {},
   "outputs": [],
   "source": [
    "m.mostrar_quantidade_elementos_cluster(k, clusters)"
   ]
  },
  {
   "cell_type": "code",
   "execution_count": null,
   "id": "be58a79c-2e12-4de1-9db6-1c8a09761c62",
   "metadata": {},
   "outputs": [],
   "source": [
    "m.plot_silhouette(X, k, clusters[str(k)]['labels'])"
   ]
  },
  {
   "cell_type": "code",
   "execution_count": null,
   "id": "eec2b2ee-2a86-4c4f-932c-63feb8235c85",
   "metadata": {},
   "outputs": [],
   "source": [
    "# Com k = 7\n",
    "k = 7\n",
    "df_labels = df\n",
    "df_labels['color'] = clusters[str(k)]['labels']\n",
    "df_labels['color'] = df_labels.color.map(lambda c: m.get_color(c))\n",
    "df_labels\n",
    "\n",
    "df.plot(x='score', y='annual_income', kind='scatter', color=df['color'], figsize=(10,8), title='K = 7')"
   ]
  },
  {
   "cell_type": "code",
   "execution_count": null,
   "id": "a05f3609-cac2-435c-8318-e09299a1dd7c",
   "metadata": {},
   "outputs": [],
   "source": [
    "m.mostrar_quantidade_elementos_cluster(k, clusters)"
   ]
  },
  {
   "cell_type": "code",
   "execution_count": null,
   "id": "227fd239-e865-4c8c-ad54-1dd6d7ea9bb5",
   "metadata": {},
   "outputs": [],
   "source": [
    "m.plot_silhouette(X, k, clusters[str(k)]['labels'])"
   ]
  },
  {
   "cell_type": "code",
   "execution_count": null,
   "id": "b38dab96-5073-40e1-bb14-ea8defb333f4",
   "metadata": {},
   "outputs": [],
   "source": [
    "# Com k = 8\n",
    "k = 8\n",
    "df_labels = df\n",
    "df_labels['color'] = clusters[str(k)]['labels']\n",
    "df_labels['color'] = df_labels.color.map(lambda c: m.get_color(c))\n",
    "df_labels\n",
    "\n",
    "df.plot(x='score', y='annual_income', kind='scatter', color=df['color'], figsize=(10,8))"
   ]
  },
  {
   "cell_type": "code",
   "execution_count": null,
   "id": "feafafdb-ded4-41f9-b7d1-ead35e317c44",
   "metadata": {},
   "outputs": [],
   "source": [
    "m.mostrar_quantidade_elementos_cluster(k, clusters)"
   ]
  },
  {
   "cell_type": "code",
   "execution_count": null,
   "id": "8be97cc1-8fd6-45cd-9430-ddec84264a41",
   "metadata": {},
   "outputs": [],
   "source": [
    "m.plot_silhouette(X, k, clusters[str(k)]['labels'])"
   ]
  },
  {
   "cell_type": "code",
   "execution_count": null,
   "id": "57b5f35d-19ef-4f80-8f6c-e1c1d72dc244",
   "metadata": {},
   "outputs": [],
   "source": [
    "# Com k = 10\n",
    "k = 10\n",
    "df_labels = df\n",
    "df_labels['color'] = clusters[str(k)]['labels']\n",
    "df_labels['color'] = df_labels.color.map(lambda c: m.get_color(c))\n",
    "df_labels\n",
    "\n",
    "df.plot(x='score', y='annual_income', kind='scatter', color=df['color'], figsize=(10,8))"
   ]
  },
  {
   "cell_type": "code",
   "execution_count": null,
   "id": "bfbde61f-609f-45de-8197-6851eb58a550",
   "metadata": {},
   "outputs": [],
   "source": [
    "m.mostrar_quantidade_elementos_cluster(k, clusters)"
   ]
  },
  {
   "cell_type": "code",
   "execution_count": null,
   "id": "d4d532da-4981-40e7-89f8-6e227d8a1b27",
   "metadata": {},
   "outputs": [],
   "source": [
    "m.plot_silhouette(X, k, clusters[str(k)]['labels'])"
   ]
  },
  {
   "cell_type": "markdown",
   "id": "1fe221e3-261b-48dd-823c-fa8e394d61d3",
   "metadata": {},
   "source": [
    "## AgglomerativeClustering"
   ]
  },
  {
   "cell_type": "code",
   "execution_count": null,
   "id": "93316e23-9ab8-4a2c-8dd5-eb9e7d42f995",
   "metadata": {},
   "outputs": [],
   "source": [
    "from sklearn.cluster import AgglomerativeClustering"
   ]
  },
  {
   "cell_type": "code",
   "execution_count": null,
   "id": "ce3168d0-fcf0-4ff3-8c69-60462cf253e0",
   "metadata": {},
   "outputs": [],
   "source": [
    "df = pd.read_csv('Mall_Customers.csv', sep=',')\n",
    "df = df.rename(columns={'Age': 'age', 'Annual Income (k$)': 'annual_income', 'Spending Score (1-100)': 'score'})\n",
    "df = df[['age', 'annual_income']]\n",
    "df"
   ]
  },
  {
   "cell_type": "code",
   "execution_count": null,
   "id": "7e520609-05a5-472c-9599-3a896b314341",
   "metadata": {},
   "outputs": [],
   "source": [
    "X = Normalizer().fit_transform(df.values)"
   ]
  },
  {
   "cell_type": "code",
   "execution_count": null,
   "id": "88e25d51-593a-498a-9352-f6146234fe1d",
   "metadata": {},
   "outputs": [],
   "source": [
    "# setting distance_threshold=0 ensures we compute the full tree.\n",
    "model = AgglomerativeClustering(n_clusters=None, distance_threshold=0)\n",
    "model = model.fit(X)\n",
    "plt.figure(figsize=(15, 7))\n",
    "plt.xlabel('Clientes')\n",
    "plt.ylabel('Distância euclidiana')\n",
    "plt.title('Dendrograma')\n",
    "m.plot_dendrogram(model,truncate_mode=\"level\", p=3)"
   ]
  },
  {
   "cell_type": "code",
   "execution_count": null,
   "id": "719148df-b480-4420-8c82-d3d4a6e52db9",
   "metadata": {},
   "outputs": [],
   "source": [
    "# Variando a distância de 1 a 4\n",
    "distancias = [1, 1.5, 3]\n",
    "distancias_labels = {}\n",
    "for distancia in distancias:\n",
    "    model = AgglomerativeClustering(n_clusters=None, distance_threshold=distancia)\n",
    "    model = model.fit(X)\n",
    "    distancias_labels[str(distancia)] = model.labels_    "
   ]
  },
  {
   "cell_type": "markdown",
   "id": "ebe7b433-f0ad-4c54-ad61-78ba5b120334",
   "metadata": {},
   "source": [
    "### Para distância igual a 1, temos 4 grupos"
   ]
  },
  {
   "cell_type": "code",
   "execution_count": null,
   "id": "372b1382-6ca4-4dbf-8f3b-0d9f3be9ac8d",
   "metadata": {},
   "outputs": [],
   "source": [
    "k = 4\n",
    "distancia = distancias[0]\n",
    "df['color'] = distancias_labels[str(distancia)]\n",
    "df"
   ]
  },
  {
   "cell_type": "code",
   "execution_count": null,
   "id": "822b89b5-537e-4e3a-b28c-d28c49261117",
   "metadata": {},
   "outputs": [],
   "source": [
    "df['color'] = df.color.map(lambda c: m.get_color(c))\n",
    "df"
   ]
  },
  {
   "cell_type": "code",
   "execution_count": null,
   "id": "6189f9da-940f-4a73-bcb1-e87a3390fb58",
   "metadata": {},
   "outputs": [],
   "source": [
    "df.plot(x='age', y='annual_income', kind='scatter', color=df['color'], figsize=(10,8), title='K = 4')\n",
    "plt.show()"
   ]
  },
  {
   "cell_type": "code",
   "execution_count": null,
   "id": "84a8761e-f06c-4fdd-a554-0f0c4b86929b",
   "metadata": {},
   "outputs": [],
   "source": [
    "m.plot_silhouette(X, k, distancias_labels[str(distancia)])"
   ]
  },
  {
   "cell_type": "markdown",
   "id": "d914bd2f-8fd5-4b32-a809-87eb96218526",
   "metadata": {},
   "source": [
    "### Para distância igual a 1.5, temos 3 grupos"
   ]
  },
  {
   "cell_type": "code",
   "execution_count": null,
   "id": "91dd0bd2-3a18-4aff-9c9b-6f1c1f500439",
   "metadata": {},
   "outputs": [],
   "source": [
    "k = 3\n",
    "distancia = distancias[1]\n",
    "df['color'] = distancias_labels[str(distancia)]\n",
    "df"
   ]
  },
  {
   "cell_type": "code",
   "execution_count": null,
   "id": "87d096a0-7172-4a8b-9963-b6eba9e3652a",
   "metadata": {},
   "outputs": [],
   "source": [
    "df['color'] = df.color.map(lambda c: m.get_color(c))\n",
    "df"
   ]
  },
  {
   "cell_type": "code",
   "execution_count": null,
   "id": "b1c2a12b-782b-469e-930f-dc4b34b0c8e1",
   "metadata": {},
   "outputs": [],
   "source": [
    "df.plot(x='age', y='annual_income', kind='scatter', color=df['color'], figsize=(10,8), title='K = 3')\n",
    "plt.show()"
   ]
  },
  {
   "cell_type": "code",
   "execution_count": null,
   "id": "5cad91db-23b3-4a1c-abc7-dd0b895ac7cf",
   "metadata": {},
   "outputs": [],
   "source": [
    "m.plot_silhouette(X, k, distancias_labels[str(distancia)])"
   ]
  },
  {
   "cell_type": "markdown",
   "id": "3f6be2d7-fa6d-4ca6-a6bb-3fa526ded09c",
   "metadata": {},
   "source": [
    "### Para distância igual a 3, temos 2 grupos"
   ]
  },
  {
   "cell_type": "code",
   "execution_count": null,
   "id": "f9862038-7f0d-4d4d-8aaf-2dd363aed021",
   "metadata": {},
   "outputs": [],
   "source": [
    "k = 2\n",
    "distancia = distancias[2]\n",
    "df['color'] = distancias_labels[str(distancia)]\n",
    "df"
   ]
  },
  {
   "cell_type": "code",
   "execution_count": null,
   "id": "3b1eb8e2-1421-43b6-b493-2197a5b646ab",
   "metadata": {},
   "outputs": [],
   "source": [
    "df['color'] = df.color.map(lambda c: m.get_color(c))\n",
    "df"
   ]
  },
  {
   "cell_type": "code",
   "execution_count": null,
   "id": "527b3444-201c-4a53-b7aa-8b211f1efc0a",
   "metadata": {},
   "outputs": [],
   "source": [
    "df.plot(x='age', y='annual_income', kind='scatter', color=df['color'], figsize=(10,8), title='K = 2')\n",
    "plt.show()"
   ]
  },
  {
   "cell_type": "code",
   "execution_count": null,
   "id": "3e85f149-40c5-40d9-9a2f-ddb799dec39e",
   "metadata": {},
   "outputs": [],
   "source": [
    "m.plot_silhouette(X, k, distancias_labels[str(distancia)])"
   ]
  },
  {
   "cell_type": "markdown",
   "id": "46a08827-3022-4b7f-ba3f-9bb208e9acb1",
   "metadata": {},
   "source": [
    "# Apriori/FP-Growth"
   ]
  },
  {
   "cell_type": "code",
   "execution_count": 53,
   "id": "4fd941f3-047d-4288-a594-4a31fdd94dc2",
   "metadata": {},
   "outputs": [],
   "source": [
    "import requests\n",
    "from mlxtend.frequent_patterns import apriori, fpgrowth\n",
    "from mlxtend.frequent_patterns import association_rules"
   ]
  },
  {
   "cell_type": "code",
   "execution_count": 54,
   "id": "3e66a543-6871-44a9-8c05-4eccd4bdfbb8",
   "metadata": {},
   "outputs": [],
   "source": [
    "response = requests.get('https://dados.es.gov.br/api/3/action/datastore_search?resource_id=38cc5066-020d-4c5a-b4c0-e9f690deb6d4&limit=10000').json()\n",
    "records = response['result']['records']"
   ]
  },
  {
   "cell_type": "code",
   "execution_count": 55,
   "id": "2dde16a5-1b46-47b6-8a42-a638f88ff89a",
   "metadata": {},
   "outputs": [],
   "source": [
    "def true_false(status):\n",
    "    return True if status == 'Sim' else False"
   ]
  },
  {
   "cell_type": "code",
   "execution_count": 56,
   "id": "460c9294-45fa-426d-b582-81c97a5a2ce3",
   "metadata": {},
   "outputs": [
    {
     "data": {
      "text/html": [
       "<div>\n",
       "<style scoped>\n",
       "    .dataframe tbody tr th:only-of-type {\n",
       "        vertical-align: middle;\n",
       "    }\n",
       "\n",
       "    .dataframe tbody tr th {\n",
       "        vertical-align: top;\n",
       "    }\n",
       "\n",
       "    .dataframe thead th {\n",
       "        text-align: right;\n",
       "    }\n",
       "</style>\n",
       "<table border=\"1\" class=\"dataframe\">\n",
       "  <thead>\n",
       "    <tr style=\"text-align: right;\">\n",
       "      <th></th>\n",
       "      <th>febre</th>\n",
       "      <th>tosse</th>\n",
       "      <th>coriza</th>\n",
       "      <th>dor_garganta</th>\n",
       "      <th>diarreia</th>\n",
       "      <th>cefaleia</th>\n",
       "      <th>dificuldade_respirar</th>\n",
       "      <th>comorbidade_pulmao</th>\n",
       "      <th>comorbidade_cardio</th>\n",
       "      <th>comorbidade_renal</th>\n",
       "      <th>comorbidade_diabetes</th>\n",
       "      <th>comorbidade_obesidade</th>\n",
       "      <th>comorbidade_tabagismo</th>\n",
       "    </tr>\n",
       "  </thead>\n",
       "  <tbody>\n",
       "    <tr>\n",
       "      <th>0</th>\n",
       "      <td>True</td>\n",
       "      <td>True</td>\n",
       "      <td>False</td>\n",
       "      <td>True</td>\n",
       "      <td>True</td>\n",
       "      <td>False</td>\n",
       "      <td>False</td>\n",
       "      <td>False</td>\n",
       "      <td>False</td>\n",
       "      <td>False</td>\n",
       "      <td>False</td>\n",
       "      <td>False</td>\n",
       "      <td>False</td>\n",
       "    </tr>\n",
       "    <tr>\n",
       "      <th>1</th>\n",
       "      <td>False</td>\n",
       "      <td>False</td>\n",
       "      <td>True</td>\n",
       "      <td>False</td>\n",
       "      <td>False</td>\n",
       "      <td>False</td>\n",
       "      <td>True</td>\n",
       "      <td>False</td>\n",
       "      <td>False</td>\n",
       "      <td>False</td>\n",
       "      <td>False</td>\n",
       "      <td>False</td>\n",
       "      <td>False</td>\n",
       "    </tr>\n",
       "    <tr>\n",
       "      <th>2</th>\n",
       "      <td>False</td>\n",
       "      <td>False</td>\n",
       "      <td>False</td>\n",
       "      <td>False</td>\n",
       "      <td>False</td>\n",
       "      <td>False</td>\n",
       "      <td>False</td>\n",
       "      <td>False</td>\n",
       "      <td>False</td>\n",
       "      <td>False</td>\n",
       "      <td>False</td>\n",
       "      <td>False</td>\n",
       "      <td>False</td>\n",
       "    </tr>\n",
       "    <tr>\n",
       "      <th>3</th>\n",
       "      <td>True</td>\n",
       "      <td>True</td>\n",
       "      <td>True</td>\n",
       "      <td>False</td>\n",
       "      <td>False</td>\n",
       "      <td>True</td>\n",
       "      <td>False</td>\n",
       "      <td>False</td>\n",
       "      <td>False</td>\n",
       "      <td>False</td>\n",
       "      <td>False</td>\n",
       "      <td>False</td>\n",
       "      <td>False</td>\n",
       "    </tr>\n",
       "    <tr>\n",
       "      <th>4</th>\n",
       "      <td>True</td>\n",
       "      <td>True</td>\n",
       "      <td>True</td>\n",
       "      <td>False</td>\n",
       "      <td>False</td>\n",
       "      <td>False</td>\n",
       "      <td>False</td>\n",
       "      <td>False</td>\n",
       "      <td>False</td>\n",
       "      <td>False</td>\n",
       "      <td>False</td>\n",
       "      <td>False</td>\n",
       "      <td>False</td>\n",
       "    </tr>\n",
       "    <tr>\n",
       "      <th>...</th>\n",
       "      <td>...</td>\n",
       "      <td>...</td>\n",
       "      <td>...</td>\n",
       "      <td>...</td>\n",
       "      <td>...</td>\n",
       "      <td>...</td>\n",
       "      <td>...</td>\n",
       "      <td>...</td>\n",
       "      <td>...</td>\n",
       "      <td>...</td>\n",
       "      <td>...</td>\n",
       "      <td>...</td>\n",
       "      <td>...</td>\n",
       "    </tr>\n",
       "    <tr>\n",
       "      <th>9995</th>\n",
       "      <td>True</td>\n",
       "      <td>True</td>\n",
       "      <td>False</td>\n",
       "      <td>False</td>\n",
       "      <td>False</td>\n",
       "      <td>True</td>\n",
       "      <td>False</td>\n",
       "      <td>False</td>\n",
       "      <td>False</td>\n",
       "      <td>False</td>\n",
       "      <td>False</td>\n",
       "      <td>False</td>\n",
       "      <td>False</td>\n",
       "    </tr>\n",
       "    <tr>\n",
       "      <th>9996</th>\n",
       "      <td>True</td>\n",
       "      <td>True</td>\n",
       "      <td>False</td>\n",
       "      <td>False</td>\n",
       "      <td>False</td>\n",
       "      <td>False</td>\n",
       "      <td>False</td>\n",
       "      <td>False</td>\n",
       "      <td>False</td>\n",
       "      <td>False</td>\n",
       "      <td>False</td>\n",
       "      <td>False</td>\n",
       "      <td>False</td>\n",
       "    </tr>\n",
       "    <tr>\n",
       "      <th>9997</th>\n",
       "      <td>False</td>\n",
       "      <td>True</td>\n",
       "      <td>False</td>\n",
       "      <td>True</td>\n",
       "      <td>False</td>\n",
       "      <td>False</td>\n",
       "      <td>False</td>\n",
       "      <td>False</td>\n",
       "      <td>False</td>\n",
       "      <td>False</td>\n",
       "      <td>False</td>\n",
       "      <td>False</td>\n",
       "      <td>False</td>\n",
       "    </tr>\n",
       "    <tr>\n",
       "      <th>9998</th>\n",
       "      <td>False</td>\n",
       "      <td>False</td>\n",
       "      <td>False</td>\n",
       "      <td>False</td>\n",
       "      <td>True</td>\n",
       "      <td>False</td>\n",
       "      <td>False</td>\n",
       "      <td>False</td>\n",
       "      <td>False</td>\n",
       "      <td>False</td>\n",
       "      <td>False</td>\n",
       "      <td>False</td>\n",
       "      <td>False</td>\n",
       "    </tr>\n",
       "    <tr>\n",
       "      <th>9999</th>\n",
       "      <td>False</td>\n",
       "      <td>True</td>\n",
       "      <td>True</td>\n",
       "      <td>False</td>\n",
       "      <td>False</td>\n",
       "      <td>False</td>\n",
       "      <td>True</td>\n",
       "      <td>False</td>\n",
       "      <td>False</td>\n",
       "      <td>False</td>\n",
       "      <td>False</td>\n",
       "      <td>False</td>\n",
       "      <td>False</td>\n",
       "    </tr>\n",
       "  </tbody>\n",
       "</table>\n",
       "<p>10000 rows × 13 columns</p>\n",
       "</div>"
      ],
      "text/plain": [
       "      febre  tosse coriza dor_garganta diarreia cefaleia dificuldade_respirar  \\\n",
       "0      True   True  False         True     True    False                False   \n",
       "1     False  False   True        False    False    False                 True   \n",
       "2     False  False  False        False    False    False                False   \n",
       "3      True   True   True        False    False     True                False   \n",
       "4      True   True   True        False    False    False                False   \n",
       "...     ...    ...    ...          ...      ...      ...                  ...   \n",
       "9995   True   True  False        False    False     True                False   \n",
       "9996   True   True  False        False    False    False                False   \n",
       "9997  False   True  False         True    False    False                False   \n",
       "9998  False  False  False        False     True    False                False   \n",
       "9999  False   True   True        False    False    False                 True   \n",
       "\n",
       "     comorbidade_pulmao comorbidade_cardio comorbidade_renal  \\\n",
       "0                 False              False             False   \n",
       "1                 False              False             False   \n",
       "2                 False              False             False   \n",
       "3                 False              False             False   \n",
       "4                 False              False             False   \n",
       "...                 ...                ...               ...   \n",
       "9995              False              False             False   \n",
       "9996              False              False             False   \n",
       "9997              False              False             False   \n",
       "9998              False              False             False   \n",
       "9999              False              False             False   \n",
       "\n",
       "     comorbidade_diabetes comorbidade_obesidade comorbidade_tabagismo  \n",
       "0                   False                 False                 False  \n",
       "1                   False                 False                 False  \n",
       "2                   False                 False                 False  \n",
       "3                   False                 False                 False  \n",
       "4                   False                 False                 False  \n",
       "...                   ...                   ...                   ...  \n",
       "9995                False                 False                 False  \n",
       "9996                False                 False                 False  \n",
       "9997                False                 False                 False  \n",
       "9998                False                 False                 False  \n",
       "9999                False                 False                 False  \n",
       "\n",
       "[10000 rows x 13 columns]"
      ]
     },
     "execution_count": 56,
     "metadata": {},
     "output_type": "execute_result"
    }
   ],
   "source": [
    "# Criando o dataframe\n",
    "df = pd.DataFrame(columns=('febre', 'tosse', 'coriza', 'dor_garganta', 'diarreia', 'cefaleia', 'dificuldade_respirar', \n",
    "                           'comorbidade_pulmao', 'comorbidade_cardio', 'comorbidade_renal', 'comorbidade_diabetes', \n",
    "                           'comorbidade_obesidade', 'comorbidade_tabagismo'))\n",
    "for record in records:\n",
    "    df = df.append({\n",
    "            'febre': true_false(record['Febre']),\n",
    "            'tosse': true_false(record['Tosse']),\n",
    "            'coriza': true_false(record['Coriza']),\n",
    "            'dor_garganta': true_false(record['DorGarganta']),\n",
    "            'diarreia': true_false(record['Diarreia']),\n",
    "            'cefaleia': true_false(record['Cefaleia']),\n",
    "            'dificuldade_respirar': true_false(record['DificuldadeRespiratoria']),\n",
    "            'comorbidade_pulmao': true_false(record['ComorbidadePulmao']),\n",
    "            'comorbidade_cardio': true_false(record['ComorbidadeCardio']),\n",
    "            'comorbidade_renal': true_false(record['ComorbidadeRenal']),\n",
    "            'comorbidade_diabetes': true_false(record['ComorbidadeDiabetes']),\n",
    "            'comorbidade_obesidade': true_false(record['ComorbidadeObesidade']),\n",
    "            'comorbidade_tabagismo': true_false(record['ComorbidadeTabagismo'])\n",
    "    }, ignore_index=True)\n",
    "df    "
   ]
  },
  {
   "cell_type": "code",
   "execution_count": 57,
   "id": "52a4d5e8-008a-45e7-baca-930b1b1e0eff",
   "metadata": {},
   "outputs": [
    {
     "data": {
      "text/html": [
       "<div>\n",
       "<style scoped>\n",
       "    .dataframe tbody tr th:only-of-type {\n",
       "        vertical-align: middle;\n",
       "    }\n",
       "\n",
       "    .dataframe tbody tr th {\n",
       "        vertical-align: top;\n",
       "    }\n",
       "\n",
       "    .dataframe thead th {\n",
       "        text-align: right;\n",
       "    }\n",
       "</style>\n",
       "<table border=\"1\" class=\"dataframe\">\n",
       "  <thead>\n",
       "    <tr style=\"text-align: right;\">\n",
       "      <th></th>\n",
       "      <th>febre</th>\n",
       "      <th>tosse</th>\n",
       "      <th>coriza</th>\n",
       "      <th>dor_garganta</th>\n",
       "      <th>diarreia</th>\n",
       "      <th>cefaleia</th>\n",
       "      <th>dificuldade_respirar</th>\n",
       "      <th>comorbidade_pulmao</th>\n",
       "      <th>comorbidade_cardio</th>\n",
       "      <th>comorbidade_renal</th>\n",
       "      <th>comorbidade_diabetes</th>\n",
       "      <th>comorbidade_obesidade</th>\n",
       "      <th>comorbidade_tabagismo</th>\n",
       "    </tr>\n",
       "  </thead>\n",
       "  <tbody>\n",
       "  </tbody>\n",
       "</table>\n",
       "</div>"
      ],
      "text/plain": [
       "Empty DataFrame\n",
       "Columns: [febre, tosse, coriza, dor_garganta, diarreia, cefaleia, dificuldade_respirar, comorbidade_pulmao, comorbidade_cardio, comorbidade_renal, comorbidade_diabetes, comorbidade_obesidade, comorbidade_tabagismo]\n",
       "Index: []"
      ]
     },
     "execution_count": 57,
     "metadata": {},
     "output_type": "execute_result"
    }
   ],
   "source": [
    "#Verificando se há linhas com dados nulos\n",
    "\n",
    "df[df.isnull().T.any()]"
   ]
  },
  {
   "cell_type": "markdown",
   "id": "0f4d9570-52bd-40d2-8fae-890356f5bf13",
   "metadata": {},
   "source": [
    "## Apriori"
   ]
  },
  {
   "cell_type": "markdown",
   "id": "1d1117de-f309-4707-bfe6-3d87f9c82387",
   "metadata": {},
   "source": [
    "### Padrões Frequentes"
   ]
  },
  {
   "cell_type": "code",
   "execution_count": 58,
   "id": "17d73adf-ec6e-4695-8db8-495fdf5ffe0f",
   "metadata": {},
   "outputs": [
    {
     "data": {
      "text/html": [
       "<div>\n",
       "<style scoped>\n",
       "    .dataframe tbody tr th:only-of-type {\n",
       "        vertical-align: middle;\n",
       "    }\n",
       "\n",
       "    .dataframe tbody tr th {\n",
       "        vertical-align: top;\n",
       "    }\n",
       "\n",
       "    .dataframe thead th {\n",
       "        text-align: right;\n",
       "    }\n",
       "</style>\n",
       "<table border=\"1\" class=\"dataframe\">\n",
       "  <thead>\n",
       "    <tr style=\"text-align: right;\">\n",
       "      <th></th>\n",
       "      <th>support</th>\n",
       "      <th>itemsets</th>\n",
       "    </tr>\n",
       "  </thead>\n",
       "  <tbody>\n",
       "    <tr>\n",
       "      <th>4</th>\n",
       "      <td>0.5009</td>\n",
       "      <td>(cefaleia)</td>\n",
       "    </tr>\n",
       "    <tr>\n",
       "      <th>1</th>\n",
       "      <td>0.4984</td>\n",
       "      <td>(tosse)</td>\n",
       "    </tr>\n",
       "    <tr>\n",
       "      <th>2</th>\n",
       "      <td>0.3719</td>\n",
       "      <td>(coriza)</td>\n",
       "    </tr>\n",
       "    <tr>\n",
       "      <th>0</th>\n",
       "      <td>0.3447</td>\n",
       "      <td>(febre)</td>\n",
       "    </tr>\n",
       "    <tr>\n",
       "      <th>3</th>\n",
       "      <td>0.3244</td>\n",
       "      <td>(dor_garganta)</td>\n",
       "    </tr>\n",
       "    <tr>\n",
       "      <th>8</th>\n",
       "      <td>0.2793</td>\n",
       "      <td>(cefaleia, tosse)</td>\n",
       "    </tr>\n",
       "    <tr>\n",
       "      <th>6</th>\n",
       "      <td>0.254</td>\n",
       "      <td>(tosse, coriza)</td>\n",
       "    </tr>\n",
       "    <tr>\n",
       "      <th>9</th>\n",
       "      <td>0.2197</td>\n",
       "      <td>(cefaleia, coriza)</td>\n",
       "    </tr>\n",
       "    <tr>\n",
       "      <th>10</th>\n",
       "      <td>0.2115</td>\n",
       "      <td>(dor_garganta, cefaleia)</td>\n",
       "    </tr>\n",
       "    <tr>\n",
       "      <th>7</th>\n",
       "      <td>0.2079</td>\n",
       "      <td>(dor_garganta, tosse)</td>\n",
       "    </tr>\n",
       "    <tr>\n",
       "      <th>5</th>\n",
       "      <td>0.2076</td>\n",
       "      <td>(febre, tosse)</td>\n",
       "    </tr>\n",
       "  </tbody>\n",
       "</table>\n",
       "</div>"
      ],
      "text/plain": [
       "   support                  itemsets\n",
       "4   0.5009                (cefaleia)\n",
       "1   0.4984                   (tosse)\n",
       "2   0.3719                  (coriza)\n",
       "0   0.3447                   (febre)\n",
       "3   0.3244            (dor_garganta)\n",
       "8   0.2793         (cefaleia, tosse)\n",
       "6    0.254           (tosse, coriza)\n",
       "9   0.2197        (cefaleia, coriza)\n",
       "10  0.2115  (dor_garganta, cefaleia)\n",
       "7   0.2079     (dor_garganta, tosse)\n",
       "5   0.2076            (febre, tosse)"
      ]
     },
     "execution_count": 58,
     "metadata": {},
     "output_type": "execute_result"
    }
   ],
   "source": [
    "#Padrões frquentes com Apriori\n",
    "fp = apriori(df, min_support=0.2, use_colnames=True)\n",
    "fp.sort_values('support', ascending=False)"
   ]
  },
  {
   "cell_type": "markdown",
   "id": "995ecbc1-7c0c-414d-b0fe-505824b54812",
   "metadata": {},
   "source": [
    "### Regras de Associação"
   ]
  },
  {
   "cell_type": "code",
   "execution_count": 59,
   "id": "28c04ff7-1d2b-4556-90de-3c0823d34d88",
   "metadata": {},
   "outputs": [
    {
     "data": {
      "text/html": [
       "<div>\n",
       "<style scoped>\n",
       "    .dataframe tbody tr th:only-of-type {\n",
       "        vertical-align: middle;\n",
       "    }\n",
       "\n",
       "    .dataframe tbody tr th {\n",
       "        vertical-align: top;\n",
       "    }\n",
       "\n",
       "    .dataframe thead th {\n",
       "        text-align: right;\n",
       "    }\n",
       "</style>\n",
       "<table border=\"1\" class=\"dataframe\">\n",
       "  <thead>\n",
       "    <tr style=\"text-align: right;\">\n",
       "      <th></th>\n",
       "      <th>antecedents</th>\n",
       "      <th>consequents</th>\n",
       "      <th>antecedent support</th>\n",
       "      <th>consequent support</th>\n",
       "      <th>support</th>\n",
       "      <th>confidence</th>\n",
       "      <th>lift</th>\n",
       "      <th>leverage</th>\n",
       "      <th>conviction</th>\n",
       "    </tr>\n",
       "  </thead>\n",
       "  <tbody>\n",
       "    <tr>\n",
       "      <th>2</th>\n",
       "      <td>(coriza)</td>\n",
       "      <td>(tosse)</td>\n",
       "      <td>0.3719</td>\n",
       "      <td>0.4984</td>\n",
       "      <td>0.2540</td>\n",
       "      <td>0.682979</td>\n",
       "      <td>1.370344</td>\n",
       "      <td>0.068645</td>\n",
       "      <td>1.582231</td>\n",
       "    </tr>\n",
       "    <tr>\n",
       "      <th>7</th>\n",
       "      <td>(dor_garganta)</td>\n",
       "      <td>(cefaleia)</td>\n",
       "      <td>0.3244</td>\n",
       "      <td>0.5009</td>\n",
       "      <td>0.2115</td>\n",
       "      <td>0.651973</td>\n",
       "      <td>1.301603</td>\n",
       "      <td>0.049008</td>\n",
       "      <td>1.434084</td>\n",
       "    </tr>\n",
       "    <tr>\n",
       "      <th>3</th>\n",
       "      <td>(dor_garganta)</td>\n",
       "      <td>(tosse)</td>\n",
       "      <td>0.3244</td>\n",
       "      <td>0.4984</td>\n",
       "      <td>0.2079</td>\n",
       "      <td>0.640875</td>\n",
       "      <td>1.285866</td>\n",
       "      <td>0.046219</td>\n",
       "      <td>1.396730</td>\n",
       "    </tr>\n",
       "    <tr>\n",
       "      <th>0</th>\n",
       "      <td>(febre)</td>\n",
       "      <td>(tosse)</td>\n",
       "      <td>0.3447</td>\n",
       "      <td>0.4984</td>\n",
       "      <td>0.2076</td>\n",
       "      <td>0.602263</td>\n",
       "      <td>1.208393</td>\n",
       "      <td>0.035802</td>\n",
       "      <td>1.261134</td>\n",
       "    </tr>\n",
       "    <tr>\n",
       "      <th>6</th>\n",
       "      <td>(coriza)</td>\n",
       "      <td>(cefaleia)</td>\n",
       "      <td>0.3719</td>\n",
       "      <td>0.5009</td>\n",
       "      <td>0.2197</td>\n",
       "      <td>0.590750</td>\n",
       "      <td>1.179378</td>\n",
       "      <td>0.033415</td>\n",
       "      <td>1.219549</td>\n",
       "    </tr>\n",
       "    <tr>\n",
       "      <th>5</th>\n",
       "      <td>(tosse)</td>\n",
       "      <td>(cefaleia)</td>\n",
       "      <td>0.4984</td>\n",
       "      <td>0.5009</td>\n",
       "      <td>0.2793</td>\n",
       "      <td>0.560393</td>\n",
       "      <td>1.118773</td>\n",
       "      <td>0.029651</td>\n",
       "      <td>1.135333</td>\n",
       "    </tr>\n",
       "    <tr>\n",
       "      <th>4</th>\n",
       "      <td>(cefaleia)</td>\n",
       "      <td>(tosse)</td>\n",
       "      <td>0.5009</td>\n",
       "      <td>0.4984</td>\n",
       "      <td>0.2793</td>\n",
       "      <td>0.557596</td>\n",
       "      <td>1.118773</td>\n",
       "      <td>0.029651</td>\n",
       "      <td>1.133806</td>\n",
       "    </tr>\n",
       "    <tr>\n",
       "      <th>1</th>\n",
       "      <td>(tosse)</td>\n",
       "      <td>(coriza)</td>\n",
       "      <td>0.4984</td>\n",
       "      <td>0.3719</td>\n",
       "      <td>0.2540</td>\n",
       "      <td>0.509631</td>\n",
       "      <td>1.370344</td>\n",
       "      <td>0.068645</td>\n",
       "      <td>1.280872</td>\n",
       "    </tr>\n",
       "  </tbody>\n",
       "</table>\n",
       "</div>"
      ],
      "text/plain": [
       "      antecedents consequents  antecedent support  consequent support  \\\n",
       "2        (coriza)     (tosse)              0.3719              0.4984   \n",
       "7  (dor_garganta)  (cefaleia)              0.3244              0.5009   \n",
       "3  (dor_garganta)     (tosse)              0.3244              0.4984   \n",
       "0         (febre)     (tosse)              0.3447              0.4984   \n",
       "6        (coriza)  (cefaleia)              0.3719              0.5009   \n",
       "5         (tosse)  (cefaleia)              0.4984              0.5009   \n",
       "4      (cefaleia)     (tosse)              0.5009              0.4984   \n",
       "1         (tosse)    (coriza)              0.4984              0.3719   \n",
       "\n",
       "   support  confidence      lift  leverage  conviction  \n",
       "2   0.2540    0.682979  1.370344  0.068645    1.582231  \n",
       "7   0.2115    0.651973  1.301603  0.049008    1.434084  \n",
       "3   0.2079    0.640875  1.285866  0.046219    1.396730  \n",
       "0   0.2076    0.602263  1.208393  0.035802    1.261134  \n",
       "6   0.2197    0.590750  1.179378  0.033415    1.219549  \n",
       "5   0.2793    0.560393  1.118773  0.029651    1.135333  \n",
       "4   0.2793    0.557596  1.118773  0.029651    1.133806  \n",
       "1   0.2540    0.509631  1.370344  0.068645    1.280872  "
      ]
     },
     "execution_count": 59,
     "metadata": {},
     "output_type": "execute_result"
    }
   ],
   "source": [
    "ar = association_rules(fp, metric='confidence', min_threshold=0.5)\n",
    "ar.sort_values('confidence', ascending=False)"
   ]
  },
  {
   "cell_type": "markdown",
   "id": "288ee0b5-c7c4-4bad-b064-cdfc1a5bf645",
   "metadata": {},
   "source": [
    "## FP-Growth"
   ]
  },
  {
   "cell_type": "markdown",
   "id": "1aaecbf9-1434-490f-9a34-bd703178d7df",
   "metadata": {},
   "source": [
    "### Padrões Frequentes"
   ]
  },
  {
   "cell_type": "code",
   "execution_count": 62,
   "id": "03836da3-fe49-43c8-bacc-41b4c023371d",
   "metadata": {},
   "outputs": [
    {
     "data": {
      "text/html": [
       "<div>\n",
       "<style scoped>\n",
       "    .dataframe tbody tr th:only-of-type {\n",
       "        vertical-align: middle;\n",
       "    }\n",
       "\n",
       "    .dataframe tbody tr th {\n",
       "        vertical-align: top;\n",
       "    }\n",
       "\n",
       "    .dataframe thead th {\n",
       "        text-align: right;\n",
       "    }\n",
       "</style>\n",
       "<table border=\"1\" class=\"dataframe\">\n",
       "  <thead>\n",
       "    <tr style=\"text-align: right;\">\n",
       "      <th></th>\n",
       "      <th>support</th>\n",
       "      <th>itemsets</th>\n",
       "    </tr>\n",
       "  </thead>\n",
       "  <tbody>\n",
       "    <tr>\n",
       "      <th>4</th>\n",
       "      <td>0.5009</td>\n",
       "      <td>(cefaleia)</td>\n",
       "    </tr>\n",
       "    <tr>\n",
       "      <th>0</th>\n",
       "      <td>0.4984</td>\n",
       "      <td>(tosse)</td>\n",
       "    </tr>\n",
       "    <tr>\n",
       "      <th>3</th>\n",
       "      <td>0.3719</td>\n",
       "      <td>(coriza)</td>\n",
       "    </tr>\n",
       "    <tr>\n",
       "      <th>1</th>\n",
       "      <td>0.3447</td>\n",
       "      <td>(febre)</td>\n",
       "    </tr>\n",
       "    <tr>\n",
       "      <th>2</th>\n",
       "      <td>0.3244</td>\n",
       "      <td>(dor_garganta)</td>\n",
       "    </tr>\n",
       "    <tr>\n",
       "      <th>5</th>\n",
       "      <td>0.2793</td>\n",
       "      <td>(cefaleia, tosse)</td>\n",
       "    </tr>\n",
       "    <tr>\n",
       "      <th>6</th>\n",
       "      <td>0.2540</td>\n",
       "      <td>(tosse, coriza)</td>\n",
       "    </tr>\n",
       "  </tbody>\n",
       "</table>\n",
       "</div>"
      ],
      "text/plain": [
       "   support           itemsets\n",
       "4   0.5009         (cefaleia)\n",
       "0   0.4984            (tosse)\n",
       "3   0.3719           (coriza)\n",
       "1   0.3447            (febre)\n",
       "2   0.3244     (dor_garganta)\n",
       "5   0.2793  (cefaleia, tosse)\n",
       "6   0.2540    (tosse, coriza)"
      ]
     },
     "execution_count": 62,
     "metadata": {},
     "output_type": "execute_result"
    }
   ],
   "source": [
    "#Padrões frquentes com Apriori\n",
    "fp = fpgrowth(df, min_support=0.25, use_colnames=True)\n",
    "fp.sort_values('support', ascending=False)"
   ]
  },
  {
   "cell_type": "markdown",
   "id": "62deedf5-208b-4611-869e-0a559c4f339c",
   "metadata": {},
   "source": [
    "### Regras de Associação"
   ]
  },
  {
   "cell_type": "code",
   "execution_count": 64,
   "id": "c19f7fe2-bcf2-4c52-a7cb-e0f3916a837b",
   "metadata": {},
   "outputs": [
    {
     "data": {
      "text/html": [
       "<div>\n",
       "<style scoped>\n",
       "    .dataframe tbody tr th:only-of-type {\n",
       "        vertical-align: middle;\n",
       "    }\n",
       "\n",
       "    .dataframe tbody tr th {\n",
       "        vertical-align: top;\n",
       "    }\n",
       "\n",
       "    .dataframe thead th {\n",
       "        text-align: right;\n",
       "    }\n",
       "</style>\n",
       "<table border=\"1\" class=\"dataframe\">\n",
       "  <thead>\n",
       "    <tr style=\"text-align: right;\">\n",
       "      <th></th>\n",
       "      <th>antecedents</th>\n",
       "      <th>consequents</th>\n",
       "      <th>antecedent support</th>\n",
       "      <th>consequent support</th>\n",
       "      <th>support</th>\n",
       "      <th>confidence</th>\n",
       "      <th>lift</th>\n",
       "      <th>leverage</th>\n",
       "      <th>conviction</th>\n",
       "    </tr>\n",
       "  </thead>\n",
       "  <tbody>\n",
       "    <tr>\n",
       "      <th>3</th>\n",
       "      <td>(coriza)</td>\n",
       "      <td>(tosse)</td>\n",
       "      <td>0.3719</td>\n",
       "      <td>0.4984</td>\n",
       "      <td>0.2540</td>\n",
       "      <td>0.682979</td>\n",
       "      <td>1.370344</td>\n",
       "      <td>0.068645</td>\n",
       "      <td>1.582231</td>\n",
       "    </tr>\n",
       "    <tr>\n",
       "      <th>1</th>\n",
       "      <td>(tosse)</td>\n",
       "      <td>(cefaleia)</td>\n",
       "      <td>0.4984</td>\n",
       "      <td>0.5009</td>\n",
       "      <td>0.2793</td>\n",
       "      <td>0.560393</td>\n",
       "      <td>1.118773</td>\n",
       "      <td>0.029651</td>\n",
       "      <td>1.135333</td>\n",
       "    </tr>\n",
       "    <tr>\n",
       "      <th>0</th>\n",
       "      <td>(cefaleia)</td>\n",
       "      <td>(tosse)</td>\n",
       "      <td>0.5009</td>\n",
       "      <td>0.4984</td>\n",
       "      <td>0.2793</td>\n",
       "      <td>0.557596</td>\n",
       "      <td>1.118773</td>\n",
       "      <td>0.029651</td>\n",
       "      <td>1.133806</td>\n",
       "    </tr>\n",
       "    <tr>\n",
       "      <th>2</th>\n",
       "      <td>(tosse)</td>\n",
       "      <td>(coriza)</td>\n",
       "      <td>0.4984</td>\n",
       "      <td>0.3719</td>\n",
       "      <td>0.2540</td>\n",
       "      <td>0.509631</td>\n",
       "      <td>1.370344</td>\n",
       "      <td>0.068645</td>\n",
       "      <td>1.280872</td>\n",
       "    </tr>\n",
       "  </tbody>\n",
       "</table>\n",
       "</div>"
      ],
      "text/plain": [
       "  antecedents consequents  antecedent support  consequent support  support  \\\n",
       "3    (coriza)     (tosse)              0.3719              0.4984   0.2540   \n",
       "1     (tosse)  (cefaleia)              0.4984              0.5009   0.2793   \n",
       "0  (cefaleia)     (tosse)              0.5009              0.4984   0.2793   \n",
       "2     (tosse)    (coriza)              0.4984              0.3719   0.2540   \n",
       "\n",
       "   confidence      lift  leverage  conviction  \n",
       "3    0.682979  1.370344  0.068645    1.582231  \n",
       "1    0.560393  1.118773  0.029651    1.135333  \n",
       "0    0.557596  1.118773  0.029651    1.133806  \n",
       "2    0.509631  1.370344  0.068645    1.280872  "
      ]
     },
     "execution_count": 64,
     "metadata": {},
     "output_type": "execute_result"
    }
   ],
   "source": [
    "ar = association_rules(fp, metric='confidence', min_threshold=0.5)\n",
    "ar.sort_values('confidence', ascending=False)"
   ]
  },
  {
   "cell_type": "code",
   "execution_count": null,
   "id": "0d75eab1-760d-4fba-bbeb-ee1afff2386a",
   "metadata": {},
   "outputs": [],
   "source": []
  }
 ],
 "metadata": {
  "kernelspec": {
   "display_name": "Python 3 (ipykernel)",
   "language": "python",
   "name": "python3"
  },
  "language_info": {
   "codemirror_mode": {
    "name": "ipython",
    "version": 3
   },
   "file_extension": ".py",
   "mimetype": "text/x-python",
   "name": "python",
   "nbconvert_exporter": "python",
   "pygments_lexer": "ipython3",
   "version": "3.8.10"
  }
 },
 "nbformat": 4,
 "nbformat_minor": 5
}
